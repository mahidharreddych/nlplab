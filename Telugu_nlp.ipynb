{
 "cells": [
  {
   "cell_type": "code",
   "execution_count": 1,
   "metadata": {},
   "outputs": [],
   "source": [
    "import sys\n",
    "from indicnlp import common\n",
    "\n",
    "# The path to the local git repo for Indic NLP library\n",
    "INDIC_NLP_LIB_HOME=r\"indic_nlp_library\"\n",
    "\n",
    "# The path to the local git repo for Indic NLP Resources\n",
    "INDIC_NLP_RESOURCES=r\"indic_nlp_resources\"\n",
    "\n",
    "# Add library to Python path\n",
    "sys.path.append(r'{}\\src'.format(INDIC_NLP_LIB_HOME))\n",
    "\n",
    "# Set environment variable for resources folder\n",
    "common.set_resources_path(INDIC_NLP_RESOURCES)"
   ]
  },
  {
   "cell_type": "code",
   "execution_count": 2,
   "metadata": {},
   "outputs": [
    {
     "name": "stdout",
     "output_type": "stream",
     "text": [
      "అమెరికాలోని కాలేజీ బోర్డ్ నిర్వహించే ఈ పరీక్ష విద్యార్థుల్లోని రీడింగ్, రైటింగ్, మ్యాథమెటికల్ స్కిల్స్‌ను గుర్తించేలా ఉంటుంది.\n",
      "కాలానుగుణంగా ఇందులో మార్పులు తీసుకురావాలని కాలేజీ బోర్డ్ నిర్ణయించింది.\n",
      "శాట్‌ను మరింత ప్రభావవంతంగా, ఉపయోగకరంగా, ఫోకస్డ్‌గా మార్చాలని యోచిస్తోంది.\n",
      "విద్యార్థుల ఆంగ్ల పద సంపద(వొకాబ్యులరీ)ను పరీక్షిస్తారు.\n",
      "ఇచ్చిన ప్యాసేజీలోని పదాలకు సందర్భానికి తగిన అర్థాలను వివరించాలని అడగనున్నారు.\n",
      "నిత్యజీవితంలో ఎక్కువగా ఉపయోగించే పదాలను ఇస్తారు.\n",
      "అందుకే విద్యార్థులు వొకాబ్యులరీపై పట్టు సాధించాలి.\n",
      "ఒక పదానికి వేర్వేరు సందర్భాల్లో ఎలాంటి అర్థాలుంటాయో తెలుసుకుంటే ఈ విభాగంలో ఎక్కువ స్కోర్ చేయొచ్చు\n"
     ]
    }
   ],
   "source": [
    "from indicnlp.tokenize import sentence_tokenize\n",
    "\n",
    "Text=\"\"\"అమెరికాలోని కాలేజీ బోర్డ్ నిర్వహించే ఈ పరీక్ష విద్యార్థుల్లోని రీడింగ్, రైటింగ్, మ్యాథమెటికల్ స్కిల్స్‌ను గుర్తించేలా ఉంటుంది.\n",
    "కాలానుగుణంగా ఇందులో మార్పులు తీసుకురావాలని కాలేజీ బోర్డ్ నిర్ణయించింది. శాట్‌ను మరింత ప్రభావవంతంగా, ఉపయోగకరంగా, ఫోకస్డ్‌గా మార్చాలని యోచిస్తోంది.\n",
    "విద్యార్థుల ఆంగ్ల పద సంపద(వొకాబ్యులరీ)ను పరీక్షిస్తారు. ఇచ్చిన ప్యాసేజీలోని పదాలకు సందర్భానికి తగిన అర్థాలను వివరించాలని అడగనున్నారు. \n",
    "నిత్యజీవితంలో ఎక్కువగా ఉపయోగించే పదాలను ఇస్తారు. అందుకే విద్యార్థులు వొకాబ్యులరీపై పట్టు సాధించాలి. \n",
    "ఒక పదానికి వేర్వేరు సందర్భాల్లో ఎలాంటి అర్థాలుంటాయో తెలుసుకుంటే ఈ విభాగంలో ఎక్కువ స్కోర్ చేయొచ్చు\"\"\"\n",
    "\n",
    "# Split the sentence, language code \"hi\" is passed for hindi\n",
    "sentences=sentence_tokenize.sentence_split(Text, lang='te')\n",
    "\n",
    "# print the sentences\n",
    "for t in sentences:\n",
    "    print(t)"
   ]
  },
  {
   "cell_type": "code",
   "execution_count": 5,
   "metadata": {},
   "outputs": [
    {
     "name": "stdout",
     "output_type": "stream",
     "text": [
      "अमॆरिकालोनि कालेजी बोर्ड् निर्वहिंचे ई परीक्ष विद्यार्थुल्लोनि रीडिंग्, रैटिंग्, म्याथमॆटिकल् स्किल्स्‌नु गुर्तिंचेला उंटुंदि.\n",
      "कालानुगुणंगा इंदुलो मार्पुलु तीसुकुरावालनि कालेजी बोर्ड् निर्णयिंचिंदि. शाट्‌नु मरिंत प्रभाववंतंगा, उपयोगकरंगा, फोकस्ड्‌गा मार्चालनि योचिस्तोंदि.\n",
      "विद्यार्थुल आंग्ल पद संपद(वॊकाब्युलरी)नु परीक्षिस्तारु. इच्चिन प्यासेजीलोनि पदालकु संदर्भानिकि तगिन अर्थालनु विवरिंचालनि अडगनुन्नारु. \n",
      "नित्यजीवितंलो ऎक्कुवगा उपयोगिंचे पदालनु इस्तारु. अंदुके विद्यार्थुलु वॊकाब्युलरीपै पट्टु साधिंचालि. \n",
      "ऒक पदानिकि वेर्वेरु संदर्भाल्लो ऎलांटि अर्थालुंटायो तॆलुसुकुंटे ई विभागंलो ऎक्कुव स्कोर् चेयॊच्चु\n"
     ]
    }
   ],
   "source": [
    "from indicnlp.transliterate.unicode_transliterate import UnicodeIndicTransliterator\n",
    "\n",
    "# Transliterate from Telugu to Hindi\n",
    "print(UnicodeIndicTransliterator.transliterate(Text,\"te\",\"hi\"))"
   ]
  },
  {
   "cell_type": "code",
   "execution_count": 6,
   "metadata": {},
   "outputs": [
    {
     "name": "stdout",
     "output_type": "stream",
     "text": [
      "అమెరికాలోని కాలేజీ బోర్డ్ నిర్వహించే ఈ పరీక్ష విద్యార్థుల్లోని రీడింగ్, రైటింగ్, మ్యాథమెటికల్ స్కిల్స్‌ను గుర్తించేలా ఉంటుంది.\n",
      "కాలానుగుణంగా ఇందులో మార్పులు తీసుకురావాలని కాలేజీ బోర్డ్ నిర్ణయించింది. శాట్‌ను మరింత ప్రభావవంతంగా, ఉపయోగకరంగా, ఫోకస్డ్‌గా మార్చాలని యోచిస్తోంది.\n",
      "విద్యార్థుల ఆంగ్ల పద సంపద(వొకాబ్యులరీ)ను పరీక్షిస్తారు. ఇచ్చిన ప్యాసేజీలోని పదాలకు సందర్భానికి తగిన అర్థాలను వివరించాలని అడగనున్నారు. \n",
      "నిత్యజీవితంలో ఎక్కువగా ఉపయోగించే పదాలను ఇస్తారు. అందుకే విద్యార్థులు వొకాబ్యులరీపై పట్టు సాధించాలి. \n",
      "ఒక పదానికి వేర్వేరు సందర్భాల్లో ఎలాంటి అర్థాలుంటాయో తెలుసుకుంటే ఈ విభాగంలో ఎక్కువ స్కోర్ చేయొచ్చు\n"
     ]
    }
   ],
   "source": [
    "Text2 = \"\"\"अमॆरिकालोनि कालेजी बोर्ड् निर्वहिंचे ई परीक्ष विद्यार्थुल्लोनि रीडिंग्, रैटिंग्, म्याथमॆटिकल् स्किल्स्‌नु गुर्तिंचेला उंटुंदि.\n",
    "कालानुगुणंगा इंदुलो मार्पुलु तीसुकुरावालनि कालेजी बोर्ड् निर्णयिंचिंदि. शाट्‌नु मरिंत प्रभाववंतंगा, उपयोगकरंगा, फोकस्ड्‌गा मार्चालनि योचिस्तोंदि.\n",
    "विद्यार्थुल आंग्ल पद संपद(वॊकाब्युलरी)नु परीक्षिस्तारु. इच्चिन प्यासेजीलोनि पदालकु संदर्भानिकि तगिन अर्थालनु विवरिंचालनि अडगनुन्नारु. \n",
    "नित्यजीवितंलो ऎक्कुवगा उपयोगिंचे पदालनु इस्तारु. अंदुके विद्यार्थुलु वॊकाब्युलरीपै पट्टु साधिंचालि. \n",
    "ऒक पदानिकि वेर्वेरु संदर्भाल्लो ऎलांटि अर्थालुंटायो तॆलुसुकुंटे ई विभागंलो ऎक्कुव स्कोर् चेयॊच्चु\"\"\"\n",
    "\n",
    "#converting hindi output to telugu to verify\n",
    "print(UnicodeIndicTransliterator.transliterate(Text2,\"hi\",\"te\"))"
   ]
  },
  {
   "cell_type": "code",
   "execution_count": 8,
   "metadata": {
    "scrolled": true
   },
   "outputs": [
    {
     "name": "stdout",
     "output_type": "stream",
     "text": [
      "Is vowel?:  True\n",
      "Is consonant?:  False\n",
      "Is velar?:  False\n",
      "Is palatal?:  False\n",
      "Is aspirated?:  False\n",
      "Is unvoiced?:  False\n",
      "Is nasal?:  False\n"
     ]
    }
   ],
   "source": [
    "from indicnlp.langinfo import *\n",
    "\n",
    "# Input character \n",
    "c='అ'\n",
    "# Language is Hindi or 'hi'\n",
    "lang='te'\n",
    "\n",
    "print('Is vowel?:  {}'.format(is_vowel(c,lang)))\n",
    "print('Is consonant?:  {}'.format(is_consonant(c,lang)))\n",
    "print('Is velar?:  {}'.format(is_velar(c,lang)))\n",
    "print('Is palatal?:  {}'.format(is_palatal(c,lang)))\n",
    "print('Is aspirated?:  {}'.format(is_aspirated(c,lang)))\n",
    "print('Is unvoiced?:  {}'.format(is_unvoiced(c,lang)))\n",
    "print('Is nasal?:  {}'.format(is_nasal(c,lang)))"
   ]
  },
  {
   "cell_type": "code",
   "execution_count": 9,
   "metadata": {},
   "outputs": [
    {
     "name": "stdout",
     "output_type": "stream",
     "text": [
      "Similarity between అ and ఆ\n"
     ]
    },
    {
     "ename": "AttributeError",
     "evalue": "'NoneType' object has no attribute 'ix'",
     "output_type": "error",
     "traceback": [
      "\u001b[1;31m---------------------------------------------------------------------------\u001b[0m",
      "\u001b[1;31mAttributeError\u001b[0m                            Traceback (most recent call last)",
      "\u001b[1;32m<ipython-input-9-c25c1854c010>\u001b[0m in \u001b[0;36m<module>\u001b[1;34m\u001b[0m\n\u001b[0;32m      9\u001b[0m \u001b[0mprint\u001b[0m\u001b[1;33m(\u001b[0m\u001b[1;34m'Similarity between {} and {}'\u001b[0m\u001b[1;33m.\u001b[0m\u001b[0mformat\u001b[0m\u001b[1;33m(\u001b[0m\u001b[0mc1\u001b[0m\u001b[1;33m,\u001b[0m\u001b[0mc2\u001b[0m\u001b[1;33m)\u001b[0m\u001b[1;33m)\u001b[0m\u001b[1;33m\u001b[0m\u001b[0m\n\u001b[0;32m     10\u001b[0m print(psim.cosine(\n\u001b[1;32m---> 11\u001b[1;33m     \u001b[0misc\u001b[0m\u001b[1;33m.\u001b[0m\u001b[0mget_phonetic_feature_vector\u001b[0m\u001b[1;33m(\u001b[0m\u001b[0mc1\u001b[0m\u001b[1;33m,\u001b[0m\u001b[0mlang\u001b[0m\u001b[1;33m)\u001b[0m\u001b[1;33m,\u001b[0m\u001b[1;33m\u001b[0m\u001b[0m\n\u001b[0m\u001b[0;32m     12\u001b[0m     \u001b[0misc\u001b[0m\u001b[1;33m.\u001b[0m\u001b[0mget_phonetic_feature_vector\u001b[0m\u001b[1;33m(\u001b[0m\u001b[0mc2\u001b[0m\u001b[1;33m,\u001b[0m\u001b[0mlang\u001b[0m\u001b[1;33m)\u001b[0m\u001b[1;33m\u001b[0m\u001b[0m\n\u001b[0;32m     13\u001b[0m     ))\n",
      "\u001b[1;32m~\\Anaconda3\\lib\\site-packages\\indicnlp\\script\\indic_scripts.py\u001b[0m in \u001b[0;36mget_phonetic_feature_vector\u001b[1;34m(c, lang)\u001b[0m\n\u001b[0;32m    168\u001b[0m     \u001b[0mphonetic_data\u001b[0m\u001b[1;33m,\u001b[0m \u001b[0mphonetic_vectors\u001b[0m\u001b[1;33m=\u001b[0m \u001b[0mget_phonetic_info\u001b[0m\u001b[1;33m(\u001b[0m\u001b[0mlang\u001b[0m\u001b[1;33m)\u001b[0m\u001b[1;33m\u001b[0m\u001b[0m\n\u001b[0;32m    169\u001b[0m \u001b[1;33m\u001b[0m\u001b[0m\n\u001b[1;32m--> 170\u001b[1;33m     \u001b[1;32mif\u001b[0m \u001b[0mphonetic_data\u001b[0m\u001b[1;33m.\u001b[0m\u001b[0mix\u001b[0m\u001b[1;33m[\u001b[0m\u001b[0moffset\u001b[0m\u001b[1;33m,\u001b[0m\u001b[1;34m'Valid Vector Representation'\u001b[0m\u001b[1;33m]\u001b[0m\u001b[1;33m==\u001b[0m\u001b[1;36m0\u001b[0m\u001b[1;33m:\u001b[0m\u001b[1;33m\u001b[0m\u001b[0m\n\u001b[0m\u001b[0;32m    171\u001b[0m         \u001b[1;32mreturn\u001b[0m \u001b[0minvalid_vector\u001b[0m\u001b[1;33m(\u001b[0m\u001b[1;33m)\u001b[0m\u001b[1;33m\u001b[0m\u001b[0m\n\u001b[0;32m    172\u001b[0m \u001b[1;33m\u001b[0m\u001b[0m\n",
      "\u001b[1;31mAttributeError\u001b[0m: 'NoneType' object has no attribute 'ix'"
     ]
    }
   ],
   "source": [
    "from indicnlp.script import  indic_scripts as isc\n",
    "from indicnlp.script import  phonetic_sim as psim\n",
    "\n",
    "c1='అ'\n",
    "c2='ఆ'\n",
    "c3='అం'\n",
    "lang='te'\n",
    "\n",
    "print('Similarity between {} and {}'.format(c1,c2))\n",
    "print(psim.cosine(\n",
    "    isc.get_phonetic_feature_vector(c1,lang),\n",
    "    isc.get_phonetic_feature_vector(c2,lang)\n",
    "    ))\n",
    "\n",
    "print(u'Similarity between {} and {}'.format(c1,c3))\n",
    "print(psim.cosine(\n",
    "    isc.get_phonetic_feature_vector(c1,lang),\n",
    "    isc.get_phonetic_feature_vector(c3,lang)\n",
    "    ))"
   ]
  },
  {
   "cell_type": "code",
   "execution_count": null,
   "metadata": {},
   "outputs": [],
   "source": []
  }
 ],
 "metadata": {
  "kernelspec": {
   "display_name": "Python 3",
   "language": "python",
   "name": "python3"
  },
  "language_info": {
   "codemirror_mode": {
    "name": "ipython",
    "version": 3
   },
   "file_extension": ".py",
   "mimetype": "text/x-python",
   "name": "python",
   "nbconvert_exporter": "python",
   "pygments_lexer": "ipython3",
   "version": "3.6.5"
  }
 },
 "nbformat": 4,
 "nbformat_minor": 4
}
